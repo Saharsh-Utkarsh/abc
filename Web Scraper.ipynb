{
 "cells": [
  {
   "cell_type": "code",
   "execution_count": 17,
   "id": "79b6b90e",
   "metadata": {},
   "outputs": [],
   "source": [
    "import bs4\n",
    "import urllib.request,sys,time\n",
    "import requests\n",
    "import csv\n",
    "import datetime\n",
    "import sqlite3 as sq\n",
    "import pandas as pd\n",
    "URL='https://www.theverge.com'\n",
    "res=requests.get(URL)\n",
    "soup=bs4.BeautifulSoup(res.text,'lxml')\n",
    "scrap=soup.select('#content')\n",
    "titles=[]\n",
    "indexes=[]\n",
    "urls=[]\n",
    "au=[]\n",
    "\n",
    "\n",
    "#To select the main div\n",
    "for text in scrap:\n",
    "        u_text=text.select('.c-entry-box--compact__title')\n",
    "        auth_name=text.select('.c-byline')\n",
    "\n",
    "#To select the title and index from the main div, got the range from len(u_text)\n",
    "for n in range(0,47):\n",
    "    indexes.append(n)\n",
    "    \n",
    "    #code to scrap the titles\n",
    "    titles.append(u_text[n].text)\n",
    "    \n",
    "    #code to scrap the urls\n",
    "    urls.append(u_text[n].select('a')[0]['href'])\n",
    "    \n",
    "    #code to scrap the author names   \n",
    "    item=auth_name[n].select('.c-byline__author-name')\n",
    "    if (item!=[]):\n",
    "        au.append(item[0].text)\n",
    "    else:\n",
    "        au.append(\" \")\n",
    "\n",
    "#current_date storing variable\n",
    "current_date = datetime.date.today()\n",
    "\n",
    "#putting the scraped values in CSV file\n",
    "file=open(\"ddmmyyy_verge.csv\",mode='w',newline='')\n",
    "csv_writer=csv.writer(file,delimiter=',')\n",
    "csv_writer.writerow(['id','URL','heading','author','date'])\n",
    "for i in range(0,47):\n",
    "    csv_writer.writerows([[indexes[i],urls[i],titles[i],au[i],current_date]])\n",
    "file.close()\n",
    "\n",
    "connection = sq.connect('scrapper.db')\n",
    "curs = connection.cursor()\n",
    "# Run create table sql query\n",
    "curs.execute(\"create table if not exists ddmmyyy_verge\" +\n",
    "             \" (id integer, URL text, heading text,author text, date date)\")\n",
    "scrap = pd.read_csv('ddmmyyy_verge.csv',encoding='windows-1254')\n",
    "scrap.to_sql('ddmmyyy_verge', connection, if_exists='replace', index=False)\n",
    "curs.execute('select * from ddmmyyy_verge')\n",
    "records = curs.fetchall()"
   ]
  },
  {
   "cell_type": "code",
   "execution_count": 18,
   "id": "4eb62964",
   "metadata": {},
   "outputs": [
    {
     "name": "stdout",
     "output_type": "stream",
     "text": [
      "(0, 'https://www.theverge.com/23341555/apple-iphone-14-pro-max-notch-dynamic-island-fix', 'Apple might have fixed the notch by putting it on an island', 'Alex Cranz', '2022-09-08')\n",
      "(1, 'https://www.theverge.com/23341046/apple-iphone-14-plus-pro-max-notch-event-announcements-watch-8-se-ultra-airpods-pro', 'Apple’s iPhone 14 event: the 9 biggest announcements', 'Emma Roth', '2022-09-08')\n",
      "(2, 'https://www.theverge.com/2022/9/7/23342243/tim-cook-apple-rcs-imessage-android-iphone-compatibility', 'Tim Cook says ‘buy your mom an iPhone’ if you want to end green bubbles', 'Emma Roth', '2022-09-08')\n",
      "(3, 'https://www.theverge.com/2022/9/8/23342402/apple-vs-garmin-watch-user-interface', 'Will the Apple Watch Ultra make Garmin the next Nokia?', 'Thomas Ricker', '2022-09-08')\n",
      "(4, 'https://www.theverge.com/2022/9/8/23341409/jeep-electric-suv-recon-wagoneer-s-avenger-release-date', 'Jeep vows four electric SUVs by 2025, including all-new Recon and Wagoneer S', 'Andrew J. Hawkins', '2022-09-08')\n",
      "(5, 'https://www.theverge.com/23338833/iphone-14-pro-max-hands-on-notch-features-apple-event', 'Hands-on with the iPhone 14 Pro and iPhone 14 Pro Max', 'Tom Warren', '2022-09-08')\n",
      "(6, 'https://www.theverge.com/2022/9/7/23341609/apple-iphone-14-far-out-event-missing-announcements', 'Everything Apple didn’t announce at its iPhone 14 event', 'Emma Roth', '2022-09-08')\n",
      "(7, 'https://www.theverge.com/23320596/iphone-14-vs-android-apple-pro-comparison-price-specs', 'How the iPhone 14 compares to the best Android phones of 2022', 'Cameron Faulkner', '2022-09-08')\n",
      "(8, 'https://www.theverge.com/23322152/apple-watch-series-8-ultra-se-preorder-buy-price-release-date', 'How to preorder the Apple Watch Series 8, Watch Ultra, and Watch SE', 'Antonio G. Di Benedetto', '2022-09-08')\n",
      "(9, 'https://www.theverge.com/2022/9/8/23339077/brydge-sp-max-plus-surface-pro-8-keyboard-case-features-price-microsoft', 'Brydge’s SP Max Plus is a pricey tank of a Type Cover replacement', 'Cameron Faulkner', '2022-09-08')\n",
      "(10, 'https://www.theverge.com/2022/9/7/23342222/steve-jobs-archive-website-launch', 'Steve Jobs’ friends and family just launched an archive to celebrate his life', 'Jay Peters', '2022-09-08')\n",
      "(11, 'https://www.theverge.com/23324010/apple-watch-series-8-se-ultra-hands-on-features-apple-event', 'Apple Watch Series 8, SE, and Ultra hands-on: triple the fun', 'Victoria Song', '2022-09-08')\n",
      "(12, 'https://www.theverge.com/2022/9/7/23342203/jony-ive-multitouch-car-touchscreen-control-design-apple', 'Jony Ive doesn’t think your car should rely on multitouch', 'Mitchell Clark', '2022-09-08')\n",
      "(13, 'https://www.theverge.com/2022/9/7/23342120/apple-fake-youtube-live-stream-crypto-scam', 'Tens of thousands of viewers watched a fake Apple crypto scam on YouTube', 'Jay Peters', '2022-09-08')\n",
      "(14, 'https://www.theverge.com/apple/2022/9/7/23342078/tim-cook-jony-ive-laurene-powell-jobs-on-steve-jobs-at-code-liveblog', 'Tim Cook, Jony Ive, and Laurene Powell Jobs, live at Code', 'Alex Heath', '2022-09-08')\n",
      "(15, 'https://www.theverge.com/2022/9/7/23341025/apple-airpods-pro-second-gen-hands-on-impressions-fall-event-2022', 'Apple’s new AirPods Pro hands-on: sticking close to a winning formula', 'Chris Welch', '2022-09-08')\n",
      "(16, 'https://www.theverge.com/2022/9/7/23342001/apple-watch-low-power-mode-series-4-watchos-9', 'Apple’s low power mode isn’t just for the new watches', 'Mitchell Clark', '2022-09-08')\n",
      "(17, 'https://www.theverge.com/2022/9/7/23341996/nvidia-30-series-gpu-spider-man-remastered-marvel-pc', 'Now Nvidia is including Spider-Man as a pack-in with new GPUs', 'Emma Roth', '2022-09-08')\n",
      "(18, 'https://www.vox.com/recode/2022/9/7/23339402/bob-iger-disney-streaming-code', 'Why Disney didn’t buy Twitter', 'Peter Kafka', '2022-09-08')\n",
      "(19, 'https://www.theverge.com/2022/9/7/23341693/gamestop-ftx-partnership-gift-card-crypto', 'GameStop’s crypto era brings FTX gift cards to its video game stores', 'Jay Peters', '2022-09-08')\n",
      "(20, 'https://www.theverge.com/23333525/iphone-14-plus-hands-on-features-apple-event', 'Hands-on with the iPhone 14 and iPhone 14 Plus', 'Allison Johnson', '2022-09-08')\n",
      "(21, 'https://www.voxmedia.com/careers', \"We're building great things, and we need your talent.\", ' ', '2022-09-08')\n",
      "(22, 'https://www.theverge.com/2022/9/7/23341651/apple-airpods-third-gen-charging-case-lightning-magsafe', 'Apple’s Lightning-only charging case for the third-gen AirPods doesn’t make sense', 'Mitchell Clark', '2022-09-08')\n",
      "(23, 'https://www.theverge.com/23316437/iphone-visual-history-apple-design-models', 'The iPhone turns 15: a visual history of every model to date', 'Umar Shakir', '2022-09-08')\n",
      "(24, 'https://www.theverge.com/23323757/apple-airpods-pro-new-second-gen-preorder-buy-price-release-date', 'How to preorder new AirPods Pro', 'Alice Newcome-Beill', '2022-09-08')\n",
      "(25, 'https://www.theverge.com/2022/9/7/23341580/apple-fitness-plus-iphone-apple-watch-sign-up-subscribe', 'Apple’s Fitness Plus soon won’t require an Apple Watch for signups', 'Jay Peters', '2022-09-08')\n",
      "(26, 'https://www.theverge.com/23339801/splatoon-3-review-nintendo-switch', 'Splatoon remains the most playful and stylish shooter around in third outing', 'Andrew Webster', '2022-09-08')\n",
      "(27, 'https://www.theverge.com/2022/9/7/23341577/applecare-plus-unlimited-iphone-mac-ipad-airpods-watch-repairs', 'Klutzes rejoice: AppleCare Plus now covers unlimited repairs', 'Mitchell Clark', '2022-09-08')\n",
      "(28, 'https://www.polygon.com/23341542/vodeo-games-beast-breaker-union-closed', 'Vodeo Games and its history-making union close up shop', 'Nicole Carpenter', '2022-09-08')\n",
      "(29, 'https://www.theverge.com/23320607/iphone-14-plus-pro-max-preorder-buy-price-release-date-apple', 'How to preorder the iPhone 14', 'Cameron Faulkner', '2022-09-08')\n",
      "(30, 'https://www.theverge.com/2022/9/7/23341487/sony-microsoft-call-of-duty-offer-jim-ryan-statement-activision-blizzard', 'Sony says Microsoft’s Call of Duty offer was ‘inadequate on many\\xa0levels’', 'Tom Warren', '2022-09-08')\n",
      "(31, 'https://www.theverge.com/2022/9/7/23341368/apple-iphone-14-dual-esim-no-physical-sim', 'The iPhone 14 won’t have a SIM tray in the US', 'Nathan Edwards', '2022-09-08')\n",
      "(32, 'https://www.theverge.com/2022/9/7/23340157/snapchat-evan-spiegel-leaked-memo-turnaround', 'This is Snap’s turnaround plan', 'Alex Heath', '2022-09-08')\n",
      "(33, 'https://www.theverge.com/2022/9/7/23328608/apple-watch-se-new-second-gen-price-specs-features-release-date', 'Apple announces a new Apple Watch SE', 'Jennifer Pattison Tuohy', '2022-09-08')\n",
      "(34, 'https://www.theverge.com/2022/9/7/23313663/iphone-14-plus-a15-processor-no-upgrade-apple-event', 'The iPhone 14 doesn’t have Apple’s latest processor', 'Mitchell Clark', '2022-09-08')\n",
      "(35, 'https://www.theverge.com/2022/9/7/23341051/kiwi-farms-internet-archive-backup-removal', 'Kiwi Farms has been scrubbed from the Internet Archive', 'Adi Robertson', '2022-09-08')\n",
      "(36, 'https://www.theverge.com/23340822/samsung-galaxy-watch-5-pro-review-smartwatch-wear-os-3', 'Samsung Galaxy Watch 5 Pro review: sometimes bigger is better  ', 'Victoria Song', '2022-09-08')\n",
      "(37, 'https://www.theverge.com/2022/9/7/23323995/apple-watch-series-3-discontinued', 'Apple finally stops selling the Series 3 watch', 'Victoria Song', '2022-09-08')\n",
      "(38, 'https://www.theverge.com/2022/9/7/23322316/apple-watch-watchos-9-release-date-features', 'Apple’s watchOS 9 launches later this month', 'Alice Newcome-Beill', '2022-09-08')\n",
      "(39, 'https://www.theverge.com/2022/9/7/23320863/apple-iphone-13-pro-max-12-11-price-cut-discontinued', 'Apple now sells only 5G iPhones', 'Sheena Vasani', '2022-09-08')\n",
      "(40, 'https://www.theverge.com/2022/9/7/23319856/apple-ios-16-ipados-release-date-features', 'Apple is releasing iOS 16', 'Barbara Krasnoff', '2022-09-08')\n",
      "(41, 'https://www.theverge.com/2022/9/7/23313786/apple-watch-series-8-specs-price-features-release-date', 'Apple Watch Series 8 announced with temperature sensor, crash detection', 'Mitchell Clark', '2022-09-08')\n",
      "(42, 'https://www.theverge.com/2022/9/6/23333055/amc-pantheon-review', 'AMC Plus’ Pantheon is a haunting  hyperproductivity nightmare that shouldn’t feel so real', 'Charles Pulliam-Moore', '2022-09-08')\n",
      "(43, 'https://www.theverge.com/2022/9/7/23338810/iphone-14-pro-screen-cameras-notch-specs-price-release-date-apple-event', 'iPhone 14 Pro and Pro Max announced with animated notches and always-on displays', 'Tom Warren', '2022-09-08')\n",
      "(44, 'https://www.theverge.com/2022/9/7/23341082/awesome-games-done-quick-2023-online-event-florida-ron-desantis', 'Awesome Games Done Quick 2023 cancels its live event in Florida', 'Ash Parrish', '2022-09-08')\n",
      "(45, 'https://www.theverge.com/2022/9/7/23320888/iphone-14-plus-specs-price-release-date-screen-notch-cameras-apple-event', 'The iPhone 14 and 14 Plus are official with satellite-based Emergency SOS', 'Allison Johnson', '2022-09-08')\n",
      "(46, 'https://www.theverge.com/2022/9/7/23340922/bose-quietcomfort-earbuds-ii-noise-cancellation-price-features-release-date', 'Bose’s QuietComfort Earbuds II get serious about noise cancellation', 'Cameron Faulkner', '2022-09-08')\n"
     ]
    }
   ],
   "source": [
    "for row in records:\n",
    "    # show row\n",
    "    print(row)"
   ]
  },
  {
   "cell_type": "code",
   "execution_count": null,
   "id": "d5c82f01",
   "metadata": {},
   "outputs": [],
   "source": []
  },
  {
   "cell_type": "code",
   "execution_count": null,
   "id": "012aea02",
   "metadata": {},
   "outputs": [],
   "source": []
  },
  {
   "cell_type": "code",
   "execution_count": null,
   "id": "3db7c0ac",
   "metadata": {},
   "outputs": [],
   "source": []
  },
  {
   "cell_type": "code",
   "execution_count": null,
   "id": "86c181bc",
   "metadata": {},
   "outputs": [],
   "source": []
  },
  {
   "cell_type": "code",
   "execution_count": null,
   "id": "e2a905ab",
   "metadata": {},
   "outputs": [],
   "source": []
  },
  {
   "cell_type": "code",
   "execution_count": null,
   "id": "7eec3cd3",
   "metadata": {},
   "outputs": [],
   "source": []
  },
  {
   "cell_type": "code",
   "execution_count": null,
   "id": "c373d85d",
   "metadata": {},
   "outputs": [],
   "source": []
  },
  {
   "cell_type": "code",
   "execution_count": null,
   "id": "92d88719",
   "metadata": {},
   "outputs": [],
   "source": []
  },
  {
   "cell_type": "code",
   "execution_count": null,
   "id": "13880c2d",
   "metadata": {},
   "outputs": [],
   "source": []
  },
  {
   "cell_type": "code",
   "execution_count": null,
   "id": "11ad9f0e",
   "metadata": {},
   "outputs": [],
   "source": []
  },
  {
   "cell_type": "code",
   "execution_count": null,
   "id": "c9b7558e",
   "metadata": {},
   "outputs": [],
   "source": []
  },
  {
   "cell_type": "code",
   "execution_count": null,
   "id": "800972a2",
   "metadata": {},
   "outputs": [],
   "source": []
  },
  {
   "cell_type": "code",
   "execution_count": null,
   "id": "6b07fdf0",
   "metadata": {},
   "outputs": [],
   "source": []
  },
  {
   "cell_type": "code",
   "execution_count": null,
   "id": "8b26316b",
   "metadata": {},
   "outputs": [],
   "source": []
  },
  {
   "cell_type": "code",
   "execution_count": null,
   "id": "2f0ca90b",
   "metadata": {},
   "outputs": [],
   "source": []
  },
  {
   "cell_type": "code",
   "execution_count": null,
   "id": "67a22791",
   "metadata": {},
   "outputs": [],
   "source": []
  },
  {
   "cell_type": "code",
   "execution_count": null,
   "id": "20e69269",
   "metadata": {},
   "outputs": [],
   "source": []
  },
  {
   "cell_type": "code",
   "execution_count": null,
   "id": "16935e27",
   "metadata": {},
   "outputs": [],
   "source": []
  },
  {
   "cell_type": "code",
   "execution_count": null,
   "id": "d37cb566",
   "metadata": {},
   "outputs": [],
   "source": []
  },
  {
   "cell_type": "code",
   "execution_count": null,
   "id": "c6560f45",
   "metadata": {},
   "outputs": [],
   "source": []
  },
  {
   "cell_type": "code",
   "execution_count": null,
   "id": "e2750d7c",
   "metadata": {},
   "outputs": [],
   "source": []
  }
 ],
 "metadata": {
  "kernelspec": {
   "display_name": "Python 3 (ipykernel)",
   "language": "python",
   "name": "python3"
  },
  "language_info": {
   "codemirror_mode": {
    "name": "ipython",
    "version": 3
   },
   "file_extension": ".py",
   "mimetype": "text/x-python",
   "name": "python",
   "nbconvert_exporter": "python",
   "pygments_lexer": "ipython3",
   "version": "3.9.7"
  }
 },
 "nbformat": 4,
 "nbformat_minor": 5
}
